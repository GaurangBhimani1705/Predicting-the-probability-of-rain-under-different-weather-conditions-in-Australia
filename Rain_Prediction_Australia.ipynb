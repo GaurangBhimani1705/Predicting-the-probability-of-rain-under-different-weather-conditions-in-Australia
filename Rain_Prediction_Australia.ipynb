{
 "cells": [
  {
   "cell_type": "markdown",
   "id": "1e5115dd",
   "metadata": {},
   "source": [
    "# Project: Rain Prediction in Australia"
   ]
  },
  {
   "cell_type": "markdown",
   "id": "dd9f1b97",
   "metadata": {},
   "source": [
    "# Import the Required libraries"
   ]
  },
  {
   "cell_type": "code",
   "execution_count": 1,
   "id": "c973cb9a",
   "metadata": {},
   "outputs": [],
   "source": [
    "import pandas as pd\n",
    "import numpy as np\n",
    "import matplotlib.pyplot as plt\n",
    "import seaborn as sns\n",
    "from sklearn.model_selection import train_test_split\n"
   ]
  },
  {
   "cell_type": "markdown",
   "id": "245a7d55",
   "metadata": {},
   "source": [
    "# Importing Dataset"
   ]
  },
  {
   "cell_type": "code",
   "execution_count": null,
   "id": "a00b9b74",
   "metadata": {},
   "outputs": [],
   "source": [
    "url = \"https://cf-courses-data.s3.us.cloud-object-storage.appdomain.cloud/IBMDeveloperSkillsNetwork-ML0101EN-SkillUp/labs/ML-FinalAssignment/Weather_Data.csv\"\n",
    "df = pd.read_csv(url, header = None, na_values = '?')\n",
    "df"
   ]
  },
  {
   "cell_type": "markdown",
   "id": "ca3a92fd",
   "metadata": {},
   "source": [
    "# Data Preprocessing"
   ]
  },
  {
   "cell_type": "code",
   "execution_count": 1000,
   "id": "e9d2d9e0",
   "metadata": {},
   "outputs": [],
   "source": [
    "# Use the first row as the column names\n",
    "df.columns=df.iloc[0]  \n",
    "# Drop the first row\n",
    "df = df.drop(0)"
   ]
  },
  {
   "cell_type": "code",
   "execution_count": 1001,
   "id": "1b480e94",
   "metadata": {},
   "outputs": [],
   "source": [
    "# One Hot Encoding: Covert Categorical variables to Binary Variables"
   ]
  },
  {
   "cell_type": "code",
   "execution_count": 1002,
   "id": "7e96a75d",
   "metadata": {},
   "outputs": [
    {
     "data": {
      "text/html": [
       "<div>\n",
       "<style scoped>\n",
       "    .dataframe tbody tr th:only-of-type {\n",
       "        vertical-align: middle;\n",
       "    }\n",
       "\n",
       "    .dataframe tbody tr th {\n",
       "        vertical-align: top;\n",
       "    }\n",
       "\n",
       "    .dataframe thead th {\n",
       "        text-align: right;\n",
       "    }\n",
       "</style>\n",
       "<table border=\"1\" class=\"dataframe\">\n",
       "  <thead>\n",
       "    <tr style=\"text-align: right;\">\n",
       "      <th></th>\n",
       "      <th>Date</th>\n",
       "      <th>MinTemp</th>\n",
       "      <th>MaxTemp</th>\n",
       "      <th>Rainfall</th>\n",
       "      <th>Evaporation</th>\n",
       "      <th>Sunshine</th>\n",
       "      <th>WindGustSpeed</th>\n",
       "      <th>WindSpeed9am</th>\n",
       "      <th>WindSpeed3pm</th>\n",
       "      <th>Humidity9am</th>\n",
       "      <th>...</th>\n",
       "      <th>WindDir3pm_NNW</th>\n",
       "      <th>WindDir3pm_NW</th>\n",
       "      <th>WindDir3pm_S</th>\n",
       "      <th>WindDir3pm_SE</th>\n",
       "      <th>WindDir3pm_SSE</th>\n",
       "      <th>WindDir3pm_SSW</th>\n",
       "      <th>WindDir3pm_SW</th>\n",
       "      <th>WindDir3pm_W</th>\n",
       "      <th>WindDir3pm_WNW</th>\n",
       "      <th>WindDir3pm_WSW</th>\n",
       "    </tr>\n",
       "  </thead>\n",
       "  <tbody>\n",
       "    <tr>\n",
       "      <th>1</th>\n",
       "      <td>2/1/2008</td>\n",
       "      <td>19.5</td>\n",
       "      <td>22.4</td>\n",
       "      <td>15.6</td>\n",
       "      <td>6.2</td>\n",
       "      <td>0</td>\n",
       "      <td>41</td>\n",
       "      <td>17</td>\n",
       "      <td>20</td>\n",
       "      <td>92</td>\n",
       "      <td>...</td>\n",
       "      <td>False</td>\n",
       "      <td>False</td>\n",
       "      <td>False</td>\n",
       "      <td>False</td>\n",
       "      <td>False</td>\n",
       "      <td>True</td>\n",
       "      <td>False</td>\n",
       "      <td>False</td>\n",
       "      <td>False</td>\n",
       "      <td>False</td>\n",
       "    </tr>\n",
       "    <tr>\n",
       "      <th>2</th>\n",
       "      <td>2/2/2008</td>\n",
       "      <td>19.5</td>\n",
       "      <td>25.6</td>\n",
       "      <td>6</td>\n",
       "      <td>3.4</td>\n",
       "      <td>2.7</td>\n",
       "      <td>41</td>\n",
       "      <td>9</td>\n",
       "      <td>13</td>\n",
       "      <td>83</td>\n",
       "      <td>...</td>\n",
       "      <td>False</td>\n",
       "      <td>False</td>\n",
       "      <td>False</td>\n",
       "      <td>False</td>\n",
       "      <td>False</td>\n",
       "      <td>False</td>\n",
       "      <td>False</td>\n",
       "      <td>False</td>\n",
       "      <td>False</td>\n",
       "      <td>False</td>\n",
       "    </tr>\n",
       "    <tr>\n",
       "      <th>3</th>\n",
       "      <td>2/3/2008</td>\n",
       "      <td>21.6</td>\n",
       "      <td>24.5</td>\n",
       "      <td>6.6</td>\n",
       "      <td>2.4</td>\n",
       "      <td>0.1</td>\n",
       "      <td>41</td>\n",
       "      <td>17</td>\n",
       "      <td>2</td>\n",
       "      <td>88</td>\n",
       "      <td>...</td>\n",
       "      <td>False</td>\n",
       "      <td>False</td>\n",
       "      <td>False</td>\n",
       "      <td>False</td>\n",
       "      <td>False</td>\n",
       "      <td>False</td>\n",
       "      <td>False</td>\n",
       "      <td>False</td>\n",
       "      <td>False</td>\n",
       "      <td>False</td>\n",
       "    </tr>\n",
       "    <tr>\n",
       "      <th>4</th>\n",
       "      <td>2/4/2008</td>\n",
       "      <td>20.2</td>\n",
       "      <td>22.8</td>\n",
       "      <td>18.8</td>\n",
       "      <td>2.2</td>\n",
       "      <td>0</td>\n",
       "      <td>41</td>\n",
       "      <td>22</td>\n",
       "      <td>20</td>\n",
       "      <td>83</td>\n",
       "      <td>...</td>\n",
       "      <td>False</td>\n",
       "      <td>False</td>\n",
       "      <td>False</td>\n",
       "      <td>False</td>\n",
       "      <td>False</td>\n",
       "      <td>False</td>\n",
       "      <td>False</td>\n",
       "      <td>False</td>\n",
       "      <td>False</td>\n",
       "      <td>False</td>\n",
       "    </tr>\n",
       "    <tr>\n",
       "      <th>5</th>\n",
       "      <td>2/5/2008</td>\n",
       "      <td>19.7</td>\n",
       "      <td>25.7</td>\n",
       "      <td>77.4</td>\n",
       "      <td>4.8</td>\n",
       "      <td>0</td>\n",
       "      <td>41</td>\n",
       "      <td>11</td>\n",
       "      <td>6</td>\n",
       "      <td>88</td>\n",
       "      <td>...</td>\n",
       "      <td>False</td>\n",
       "      <td>False</td>\n",
       "      <td>False</td>\n",
       "      <td>False</td>\n",
       "      <td>False</td>\n",
       "      <td>False</td>\n",
       "      <td>False</td>\n",
       "      <td>True</td>\n",
       "      <td>False</td>\n",
       "      <td>False</td>\n",
       "    </tr>\n",
       "    <tr>\n",
       "      <th>...</th>\n",
       "      <td>...</td>\n",
       "      <td>...</td>\n",
       "      <td>...</td>\n",
       "      <td>...</td>\n",
       "      <td>...</td>\n",
       "      <td>...</td>\n",
       "      <td>...</td>\n",
       "      <td>...</td>\n",
       "      <td>...</td>\n",
       "      <td>...</td>\n",
       "      <td>...</td>\n",
       "      <td>...</td>\n",
       "      <td>...</td>\n",
       "      <td>...</td>\n",
       "      <td>...</td>\n",
       "      <td>...</td>\n",
       "      <td>...</td>\n",
       "      <td>...</td>\n",
       "      <td>...</td>\n",
       "      <td>...</td>\n",
       "      <td>...</td>\n",
       "    </tr>\n",
       "    <tr>\n",
       "      <th>3267</th>\n",
       "      <td>6/21/2017</td>\n",
       "      <td>8.6</td>\n",
       "      <td>19.6</td>\n",
       "      <td>0</td>\n",
       "      <td>2</td>\n",
       "      <td>7.8</td>\n",
       "      <td>37</td>\n",
       "      <td>22</td>\n",
       "      <td>20</td>\n",
       "      <td>73</td>\n",
       "      <td>...</td>\n",
       "      <td>False</td>\n",
       "      <td>False</td>\n",
       "      <td>False</td>\n",
       "      <td>False</td>\n",
       "      <td>True</td>\n",
       "      <td>False</td>\n",
       "      <td>False</td>\n",
       "      <td>False</td>\n",
       "      <td>False</td>\n",
       "      <td>False</td>\n",
       "    </tr>\n",
       "    <tr>\n",
       "      <th>3268</th>\n",
       "      <td>6/22/2017</td>\n",
       "      <td>9.3</td>\n",
       "      <td>19.2</td>\n",
       "      <td>0</td>\n",
       "      <td>2</td>\n",
       "      <td>9.2</td>\n",
       "      <td>30</td>\n",
       "      <td>20</td>\n",
       "      <td>7</td>\n",
       "      <td>78</td>\n",
       "      <td>...</td>\n",
       "      <td>False</td>\n",
       "      <td>False</td>\n",
       "      <td>False</td>\n",
       "      <td>False</td>\n",
       "      <td>False</td>\n",
       "      <td>False</td>\n",
       "      <td>False</td>\n",
       "      <td>False</td>\n",
       "      <td>False</td>\n",
       "      <td>False</td>\n",
       "    </tr>\n",
       "    <tr>\n",
       "      <th>3269</th>\n",
       "      <td>6/23/2017</td>\n",
       "      <td>9.4</td>\n",
       "      <td>17.7</td>\n",
       "      <td>0</td>\n",
       "      <td>2.4</td>\n",
       "      <td>2.7</td>\n",
       "      <td>24</td>\n",
       "      <td>15</td>\n",
       "      <td>13</td>\n",
       "      <td>85</td>\n",
       "      <td>...</td>\n",
       "      <td>False</td>\n",
       "      <td>False</td>\n",
       "      <td>False</td>\n",
       "      <td>False</td>\n",
       "      <td>False</td>\n",
       "      <td>False</td>\n",
       "      <td>False</td>\n",
       "      <td>False</td>\n",
       "      <td>False</td>\n",
       "      <td>False</td>\n",
       "    </tr>\n",
       "    <tr>\n",
       "      <th>3270</th>\n",
       "      <td>6/24/2017</td>\n",
       "      <td>10.1</td>\n",
       "      <td>19.3</td>\n",
       "      <td>0</td>\n",
       "      <td>1.4</td>\n",
       "      <td>9.3</td>\n",
       "      <td>43</td>\n",
       "      <td>17</td>\n",
       "      <td>19</td>\n",
       "      <td>56</td>\n",
       "      <td>...</td>\n",
       "      <td>False</td>\n",
       "      <td>False</td>\n",
       "      <td>False</td>\n",
       "      <td>False</td>\n",
       "      <td>False</td>\n",
       "      <td>False</td>\n",
       "      <td>False</td>\n",
       "      <td>True</td>\n",
       "      <td>False</td>\n",
       "      <td>False</td>\n",
       "    </tr>\n",
       "    <tr>\n",
       "      <th>3271</th>\n",
       "      <td>6/25/2017</td>\n",
       "      <td>7.6</td>\n",
       "      <td>19.3</td>\n",
       "      <td>0</td>\n",
       "      <td>3.4</td>\n",
       "      <td>9.4</td>\n",
       "      <td>35</td>\n",
       "      <td>13</td>\n",
       "      <td>13</td>\n",
       "      <td>73</td>\n",
       "      <td>...</td>\n",
       "      <td>False</td>\n",
       "      <td>False</td>\n",
       "      <td>False</td>\n",
       "      <td>False</td>\n",
       "      <td>False</td>\n",
       "      <td>False</td>\n",
       "      <td>False</td>\n",
       "      <td>True</td>\n",
       "      <td>False</td>\n",
       "      <td>False</td>\n",
       "    </tr>\n",
       "  </tbody>\n",
       "</table>\n",
       "<p>3271 rows × 68 columns</p>\n",
       "</div>"
      ],
      "text/plain": [
       "           Date MinTemp MaxTemp Rainfall Evaporation Sunshine WindGustSpeed  \\\n",
       "1      2/1/2008    19.5    22.4     15.6         6.2        0            41   \n",
       "2      2/2/2008    19.5    25.6        6         3.4      2.7            41   \n",
       "3      2/3/2008    21.6    24.5      6.6         2.4      0.1            41   \n",
       "4      2/4/2008    20.2    22.8     18.8         2.2        0            41   \n",
       "5      2/5/2008    19.7    25.7     77.4         4.8        0            41   \n",
       "...         ...     ...     ...      ...         ...      ...           ...   \n",
       "3267  6/21/2017     8.6    19.6        0           2      7.8            37   \n",
       "3268  6/22/2017     9.3    19.2        0           2      9.2            30   \n",
       "3269  6/23/2017     9.4    17.7        0         2.4      2.7            24   \n",
       "3270  6/24/2017    10.1    19.3        0         1.4      9.3            43   \n",
       "3271  6/25/2017     7.6    19.3        0         3.4      9.4            35   \n",
       "\n",
       "     WindSpeed9am WindSpeed3pm Humidity9am  ... WindDir3pm_NNW WindDir3pm_NW  \\\n",
       "1              17           20          92  ...          False         False   \n",
       "2               9           13          83  ...          False         False   \n",
       "3              17            2          88  ...          False         False   \n",
       "4              22           20          83  ...          False         False   \n",
       "5              11            6          88  ...          False         False   \n",
       "...           ...          ...         ...  ...            ...           ...   \n",
       "3267           22           20          73  ...          False         False   \n",
       "3268           20            7          78  ...          False         False   \n",
       "3269           15           13          85  ...          False         False   \n",
       "3270           17           19          56  ...          False         False   \n",
       "3271           13           13          73  ...          False         False   \n",
       "\n",
       "     WindDir3pm_S WindDir3pm_SE WindDir3pm_SSE WindDir3pm_SSW WindDir3pm_SW  \\\n",
       "1           False         False          False           True         False   \n",
       "2           False         False          False          False         False   \n",
       "3           False         False          False          False         False   \n",
       "4           False         False          False          False         False   \n",
       "5           False         False          False          False         False   \n",
       "...           ...           ...            ...            ...           ...   \n",
       "3267        False         False           True          False         False   \n",
       "3268        False         False          False          False         False   \n",
       "3269        False         False          False          False         False   \n",
       "3270        False         False          False          False         False   \n",
       "3271        False         False          False          False         False   \n",
       "\n",
       "      WindDir3pm_W  WindDir3pm_WNW  WindDir3pm_WSW  \n",
       "1            False           False           False  \n",
       "2            False           False           False  \n",
       "3            False           False           False  \n",
       "4            False           False           False  \n",
       "5             True           False           False  \n",
       "...            ...             ...             ...  \n",
       "3267         False           False           False  \n",
       "3268         False           False           False  \n",
       "3269         False           False           False  \n",
       "3270          True           False           False  \n",
       "3271          True           False           False  \n",
       "\n",
       "[3271 rows x 68 columns]"
      ]
     },
     "execution_count": 1002,
     "metadata": {},
     "output_type": "execute_result"
    }
   ],
   "source": [
    "df_sydney_processed = pd.get_dummies(data=df, columns = ['RainToday','WindGustDir','WindDir9am','WindDir3pm']) # Sample DataFrame with Categorical Data\n",
    "df_sydney_processed.replace(['No', 'Yes'], [0,1], inplace=True)\n",
    "df_sydney_processed"
   ]
  },
  {
   "cell_type": "code",
   "execution_count": 1003,
   "id": "30bda52a",
   "metadata": {},
   "outputs": [],
   "source": [
    "df_sydney_processed.drop('Date',axis=1,inplace=True) # Drop the Date columns from DataFram\n",
    "df_sydney_processed = df_sydney_processed.astype(float) # Covert All columns to Float Data type\n",
    "df_sydney_processed\n",
    "# Export the Data set as CSV File\n",
    "path = \"/Users/gaurangbhimani/Desktop/Data_Material/Machine_learning_Project/Filtered_Data.csv\"\n",
    "df_sydney_processed.to_csv(path)   \n"
   ]
  },
  {
   "cell_type": "code",
   "execution_count": 1004,
   "id": "e5f810bc",
   "metadata": {},
   "outputs": [
    {
     "data": {
      "text/html": [
       "<div>\n",
       "<style scoped>\n",
       "    .dataframe tbody tr th:only-of-type {\n",
       "        vertical-align: middle;\n",
       "    }\n",
       "\n",
       "    .dataframe tbody tr th {\n",
       "        vertical-align: top;\n",
       "    }\n",
       "\n",
       "    .dataframe thead th {\n",
       "        text-align: right;\n",
       "    }\n",
       "</style>\n",
       "<table border=\"1\" class=\"dataframe\">\n",
       "  <thead>\n",
       "    <tr style=\"text-align: right;\">\n",
       "      <th></th>\n",
       "      <th>MinTemp</th>\n",
       "      <th>MaxTemp</th>\n",
       "      <th>Rainfall</th>\n",
       "      <th>Evaporation</th>\n",
       "      <th>Sunshine</th>\n",
       "      <th>WindGustSpeed</th>\n",
       "      <th>WindSpeed9am</th>\n",
       "      <th>WindSpeed3pm</th>\n",
       "      <th>Humidity9am</th>\n",
       "      <th>Humidity3pm</th>\n",
       "      <th>...</th>\n",
       "      <th>WindDir3pm_NNW</th>\n",
       "      <th>WindDir3pm_NW</th>\n",
       "      <th>WindDir3pm_S</th>\n",
       "      <th>WindDir3pm_SE</th>\n",
       "      <th>WindDir3pm_SSE</th>\n",
       "      <th>WindDir3pm_SSW</th>\n",
       "      <th>WindDir3pm_SW</th>\n",
       "      <th>WindDir3pm_W</th>\n",
       "      <th>WindDir3pm_WNW</th>\n",
       "      <th>WindDir3pm_WSW</th>\n",
       "    </tr>\n",
       "  </thead>\n",
       "  <tbody>\n",
       "    <tr>\n",
       "      <th>1</th>\n",
       "      <td>19.5</td>\n",
       "      <td>22.4</td>\n",
       "      <td>15.6</td>\n",
       "      <td>6.2</td>\n",
       "      <td>0.0</td>\n",
       "      <td>41.0</td>\n",
       "      <td>17.0</td>\n",
       "      <td>20.0</td>\n",
       "      <td>92.0</td>\n",
       "      <td>84.0</td>\n",
       "      <td>...</td>\n",
       "      <td>0.0</td>\n",
       "      <td>0.0</td>\n",
       "      <td>0.0</td>\n",
       "      <td>0.0</td>\n",
       "      <td>0.0</td>\n",
       "      <td>1.0</td>\n",
       "      <td>0.0</td>\n",
       "      <td>0.0</td>\n",
       "      <td>0.0</td>\n",
       "      <td>0.0</td>\n",
       "    </tr>\n",
       "    <tr>\n",
       "      <th>2</th>\n",
       "      <td>19.5</td>\n",
       "      <td>25.6</td>\n",
       "      <td>6.0</td>\n",
       "      <td>3.4</td>\n",
       "      <td>2.7</td>\n",
       "      <td>41.0</td>\n",
       "      <td>9.0</td>\n",
       "      <td>13.0</td>\n",
       "      <td>83.0</td>\n",
       "      <td>73.0</td>\n",
       "      <td>...</td>\n",
       "      <td>0.0</td>\n",
       "      <td>0.0</td>\n",
       "      <td>0.0</td>\n",
       "      <td>0.0</td>\n",
       "      <td>0.0</td>\n",
       "      <td>0.0</td>\n",
       "      <td>0.0</td>\n",
       "      <td>0.0</td>\n",
       "      <td>0.0</td>\n",
       "      <td>0.0</td>\n",
       "    </tr>\n",
       "    <tr>\n",
       "      <th>3</th>\n",
       "      <td>21.6</td>\n",
       "      <td>24.5</td>\n",
       "      <td>6.6</td>\n",
       "      <td>2.4</td>\n",
       "      <td>0.1</td>\n",
       "      <td>41.0</td>\n",
       "      <td>17.0</td>\n",
       "      <td>2.0</td>\n",
       "      <td>88.0</td>\n",
       "      <td>86.0</td>\n",
       "      <td>...</td>\n",
       "      <td>0.0</td>\n",
       "      <td>0.0</td>\n",
       "      <td>0.0</td>\n",
       "      <td>0.0</td>\n",
       "      <td>0.0</td>\n",
       "      <td>0.0</td>\n",
       "      <td>0.0</td>\n",
       "      <td>0.0</td>\n",
       "      <td>0.0</td>\n",
       "      <td>0.0</td>\n",
       "    </tr>\n",
       "    <tr>\n",
       "      <th>4</th>\n",
       "      <td>20.2</td>\n",
       "      <td>22.8</td>\n",
       "      <td>18.8</td>\n",
       "      <td>2.2</td>\n",
       "      <td>0.0</td>\n",
       "      <td>41.0</td>\n",
       "      <td>22.0</td>\n",
       "      <td>20.0</td>\n",
       "      <td>83.0</td>\n",
       "      <td>90.0</td>\n",
       "      <td>...</td>\n",
       "      <td>0.0</td>\n",
       "      <td>0.0</td>\n",
       "      <td>0.0</td>\n",
       "      <td>0.0</td>\n",
       "      <td>0.0</td>\n",
       "      <td>0.0</td>\n",
       "      <td>0.0</td>\n",
       "      <td>0.0</td>\n",
       "      <td>0.0</td>\n",
       "      <td>0.0</td>\n",
       "    </tr>\n",
       "    <tr>\n",
       "      <th>5</th>\n",
       "      <td>19.7</td>\n",
       "      <td>25.7</td>\n",
       "      <td>77.4</td>\n",
       "      <td>4.8</td>\n",
       "      <td>0.0</td>\n",
       "      <td>41.0</td>\n",
       "      <td>11.0</td>\n",
       "      <td>6.0</td>\n",
       "      <td>88.0</td>\n",
       "      <td>74.0</td>\n",
       "      <td>...</td>\n",
       "      <td>0.0</td>\n",
       "      <td>0.0</td>\n",
       "      <td>0.0</td>\n",
       "      <td>0.0</td>\n",
       "      <td>0.0</td>\n",
       "      <td>0.0</td>\n",
       "      <td>0.0</td>\n",
       "      <td>1.0</td>\n",
       "      <td>0.0</td>\n",
       "      <td>0.0</td>\n",
       "    </tr>\n",
       "    <tr>\n",
       "      <th>...</th>\n",
       "      <td>...</td>\n",
       "      <td>...</td>\n",
       "      <td>...</td>\n",
       "      <td>...</td>\n",
       "      <td>...</td>\n",
       "      <td>...</td>\n",
       "      <td>...</td>\n",
       "      <td>...</td>\n",
       "      <td>...</td>\n",
       "      <td>...</td>\n",
       "      <td>...</td>\n",
       "      <td>...</td>\n",
       "      <td>...</td>\n",
       "      <td>...</td>\n",
       "      <td>...</td>\n",
       "      <td>...</td>\n",
       "      <td>...</td>\n",
       "      <td>...</td>\n",
       "      <td>...</td>\n",
       "      <td>...</td>\n",
       "      <td>...</td>\n",
       "    </tr>\n",
       "    <tr>\n",
       "      <th>3267</th>\n",
       "      <td>8.6</td>\n",
       "      <td>19.6</td>\n",
       "      <td>0.0</td>\n",
       "      <td>2.0</td>\n",
       "      <td>7.8</td>\n",
       "      <td>37.0</td>\n",
       "      <td>22.0</td>\n",
       "      <td>20.0</td>\n",
       "      <td>73.0</td>\n",
       "      <td>52.0</td>\n",
       "      <td>...</td>\n",
       "      <td>0.0</td>\n",
       "      <td>0.0</td>\n",
       "      <td>0.0</td>\n",
       "      <td>0.0</td>\n",
       "      <td>1.0</td>\n",
       "      <td>0.0</td>\n",
       "      <td>0.0</td>\n",
       "      <td>0.0</td>\n",
       "      <td>0.0</td>\n",
       "      <td>0.0</td>\n",
       "    </tr>\n",
       "    <tr>\n",
       "      <th>3268</th>\n",
       "      <td>9.3</td>\n",
       "      <td>19.2</td>\n",
       "      <td>0.0</td>\n",
       "      <td>2.0</td>\n",
       "      <td>9.2</td>\n",
       "      <td>30.0</td>\n",
       "      <td>20.0</td>\n",
       "      <td>7.0</td>\n",
       "      <td>78.0</td>\n",
       "      <td>53.0</td>\n",
       "      <td>...</td>\n",
       "      <td>0.0</td>\n",
       "      <td>0.0</td>\n",
       "      <td>0.0</td>\n",
       "      <td>0.0</td>\n",
       "      <td>0.0</td>\n",
       "      <td>0.0</td>\n",
       "      <td>0.0</td>\n",
       "      <td>0.0</td>\n",
       "      <td>0.0</td>\n",
       "      <td>0.0</td>\n",
       "    </tr>\n",
       "    <tr>\n",
       "      <th>3269</th>\n",
       "      <td>9.4</td>\n",
       "      <td>17.7</td>\n",
       "      <td>0.0</td>\n",
       "      <td>2.4</td>\n",
       "      <td>2.7</td>\n",
       "      <td>24.0</td>\n",
       "      <td>15.0</td>\n",
       "      <td>13.0</td>\n",
       "      <td>85.0</td>\n",
       "      <td>56.0</td>\n",
       "      <td>...</td>\n",
       "      <td>0.0</td>\n",
       "      <td>0.0</td>\n",
       "      <td>0.0</td>\n",
       "      <td>0.0</td>\n",
       "      <td>0.0</td>\n",
       "      <td>0.0</td>\n",
       "      <td>0.0</td>\n",
       "      <td>0.0</td>\n",
       "      <td>0.0</td>\n",
       "      <td>0.0</td>\n",
       "    </tr>\n",
       "    <tr>\n",
       "      <th>3270</th>\n",
       "      <td>10.1</td>\n",
       "      <td>19.3</td>\n",
       "      <td>0.0</td>\n",
       "      <td>1.4</td>\n",
       "      <td>9.3</td>\n",
       "      <td>43.0</td>\n",
       "      <td>17.0</td>\n",
       "      <td>19.0</td>\n",
       "      <td>56.0</td>\n",
       "      <td>35.0</td>\n",
       "      <td>...</td>\n",
       "      <td>0.0</td>\n",
       "      <td>0.0</td>\n",
       "      <td>0.0</td>\n",
       "      <td>0.0</td>\n",
       "      <td>0.0</td>\n",
       "      <td>0.0</td>\n",
       "      <td>0.0</td>\n",
       "      <td>1.0</td>\n",
       "      <td>0.0</td>\n",
       "      <td>0.0</td>\n",
       "    </tr>\n",
       "    <tr>\n",
       "      <th>3271</th>\n",
       "      <td>7.6</td>\n",
       "      <td>19.3</td>\n",
       "      <td>0.0</td>\n",
       "      <td>3.4</td>\n",
       "      <td>9.4</td>\n",
       "      <td>35.0</td>\n",
       "      <td>13.0</td>\n",
       "      <td>13.0</td>\n",
       "      <td>73.0</td>\n",
       "      <td>32.0</td>\n",
       "      <td>...</td>\n",
       "      <td>0.0</td>\n",
       "      <td>0.0</td>\n",
       "      <td>0.0</td>\n",
       "      <td>0.0</td>\n",
       "      <td>0.0</td>\n",
       "      <td>0.0</td>\n",
       "      <td>0.0</td>\n",
       "      <td>1.0</td>\n",
       "      <td>0.0</td>\n",
       "      <td>0.0</td>\n",
       "    </tr>\n",
       "  </tbody>\n",
       "</table>\n",
       "<p>3271 rows × 66 columns</p>\n",
       "</div>"
      ],
      "text/plain": [
       "      MinTemp  MaxTemp  Rainfall  Evaporation  Sunshine  WindGustSpeed  \\\n",
       "1        19.5     22.4      15.6          6.2       0.0           41.0   \n",
       "2        19.5     25.6       6.0          3.4       2.7           41.0   \n",
       "3        21.6     24.5       6.6          2.4       0.1           41.0   \n",
       "4        20.2     22.8      18.8          2.2       0.0           41.0   \n",
       "5        19.7     25.7      77.4          4.8       0.0           41.0   \n",
       "...       ...      ...       ...          ...       ...            ...   \n",
       "3267      8.6     19.6       0.0          2.0       7.8           37.0   \n",
       "3268      9.3     19.2       0.0          2.0       9.2           30.0   \n",
       "3269      9.4     17.7       0.0          2.4       2.7           24.0   \n",
       "3270     10.1     19.3       0.0          1.4       9.3           43.0   \n",
       "3271      7.6     19.3       0.0          3.4       9.4           35.0   \n",
       "\n",
       "      WindSpeed9am  WindSpeed3pm  Humidity9am  Humidity3pm  ...  \\\n",
       "1             17.0          20.0         92.0         84.0  ...   \n",
       "2              9.0          13.0         83.0         73.0  ...   \n",
       "3             17.0           2.0         88.0         86.0  ...   \n",
       "4             22.0          20.0         83.0         90.0  ...   \n",
       "5             11.0           6.0         88.0         74.0  ...   \n",
       "...            ...           ...          ...          ...  ...   \n",
       "3267          22.0          20.0         73.0         52.0  ...   \n",
       "3268          20.0           7.0         78.0         53.0  ...   \n",
       "3269          15.0          13.0         85.0         56.0  ...   \n",
       "3270          17.0          19.0         56.0         35.0  ...   \n",
       "3271          13.0          13.0         73.0         32.0  ...   \n",
       "\n",
       "      WindDir3pm_NNW  WindDir3pm_NW  WindDir3pm_S  WindDir3pm_SE  \\\n",
       "1                0.0            0.0           0.0            0.0   \n",
       "2                0.0            0.0           0.0            0.0   \n",
       "3                0.0            0.0           0.0            0.0   \n",
       "4                0.0            0.0           0.0            0.0   \n",
       "5                0.0            0.0           0.0            0.0   \n",
       "...              ...            ...           ...            ...   \n",
       "3267             0.0            0.0           0.0            0.0   \n",
       "3268             0.0            0.0           0.0            0.0   \n",
       "3269             0.0            0.0           0.0            0.0   \n",
       "3270             0.0            0.0           0.0            0.0   \n",
       "3271             0.0            0.0           0.0            0.0   \n",
       "\n",
       "      WindDir3pm_SSE  WindDir3pm_SSW  WindDir3pm_SW  WindDir3pm_W  \\\n",
       "1                0.0             1.0            0.0           0.0   \n",
       "2                0.0             0.0            0.0           0.0   \n",
       "3                0.0             0.0            0.0           0.0   \n",
       "4                0.0             0.0            0.0           0.0   \n",
       "5                0.0             0.0            0.0           1.0   \n",
       "...              ...             ...            ...           ...   \n",
       "3267             1.0             0.0            0.0           0.0   \n",
       "3268             0.0             0.0            0.0           0.0   \n",
       "3269             0.0             0.0            0.0           0.0   \n",
       "3270             0.0             0.0            0.0           1.0   \n",
       "3271             0.0             0.0            0.0           1.0   \n",
       "\n",
       "      WindDir3pm_WNW  WindDir3pm_WSW  \n",
       "1                0.0             0.0  \n",
       "2                0.0             0.0  \n",
       "3                0.0             0.0  \n",
       "4                0.0             0.0  \n",
       "5                0.0             0.0  \n",
       "...              ...             ...  \n",
       "3267             0.0             0.0  \n",
       "3268             0.0             0.0  \n",
       "3269             0.0             0.0  \n",
       "3270             0.0             0.0  \n",
       "3271             0.0             0.0  \n",
       "\n",
       "[3271 rows x 66 columns]"
      ]
     },
     "execution_count": 1004,
     "metadata": {},
     "output_type": "execute_result"
    }
   ],
   "source": [
    "features = df_sydney_processed.drop(columns='RainTomorrow', axis=1) # Remove Target column. so other alles are independet Varables\n",
    "features\n",
    "\n",
    " "
   ]
  },
  {
   "cell_type": "code",
   "execution_count": 1005,
   "id": "42d35243",
   "metadata": {},
   "outputs": [],
   "source": [
    "Y = df_sydney_processed['RainTomorrow']\n"
   ]
  },
  {
   "cell_type": "markdown",
   "id": "15e4f7e1",
   "metadata": {},
   "source": [
    "# Regression Method: it used to Predicting Continous Data value"
   ]
  },
  {
   "cell_type": "code",
   "execution_count": 1006,
   "id": "2e5fe51a",
   "metadata": {},
   "outputs": [],
   "source": [
    "from sklearn.model_selection import train_test_split\n",
    "#Use the train_test_split function to split the features and Y dataframes with a test_size of 0.2 and the random_state set to 10\n",
    "x_train,x_test,y_train,y_test = train_test_split(features, Y,test_size = 0.2,random_state = 10)\n"
   ]
  },
  {
   "cell_type": "code",
   "execution_count": 1007,
   "id": "b5688c90",
   "metadata": {},
   "outputs": [
    {
     "data": {
      "text/plain": [
       "array([-2.36930781e-02,  1.30077882e-02,  7.28866239e-04,  6.49300575e-03,\n",
       "       -3.51612796e-02,  4.23708750e-03,  1.83080115e-03,  7.89617873e-04,\n",
       "        9.56307017e-04,  8.55992648e-03,  7.69696543e-03, -9.24419697e-03,\n",
       "       -8.87118410e-03,  1.00496984e-02,  1.44680592e-02, -3.48113795e-03,\n",
       "        3.33194624e+10,  3.33194624e+10, -1.43767142e+08, -1.43767142e+08,\n",
       "       -1.43767142e+08, -1.43767142e+08, -1.43767142e+08, -1.43767142e+08,\n",
       "       -1.43767142e+08, -1.43767142e+08, -1.43767142e+08, -1.43767142e+08,\n",
       "       -1.43767142e+08, -1.43767142e+08, -1.43767142e+08, -1.43767142e+08,\n",
       "       -1.43767142e+08, -1.43767142e+08, -7.26572484e+09, -7.26572484e+09,\n",
       "       -7.26572484e+09, -7.26572484e+09, -7.26572484e+09, -7.26572484e+09,\n",
       "       -7.26572484e+09, -7.26572484e+09, -7.26572484e+09, -7.26572484e+09,\n",
       "       -7.26572484e+09, -7.26572484e+09, -7.26572484e+09, -7.26572484e+09,\n",
       "       -7.26572484e+09, -7.26572484e+09,  4.29741525e+09,  4.29741525e+09,\n",
       "        4.29741525e+09,  4.29741525e+09,  4.29741525e+09,  4.29741525e+09,\n",
       "        4.29741525e+09,  4.29741525e+09,  4.29741525e+09,  4.29741525e+09,\n",
       "        4.29741525e+09,  4.29741525e+09,  4.29741525e+09,  4.29741525e+09,\n",
       "        4.29741525e+09,  4.29741525e+09])"
      ]
     },
     "execution_count": 1007,
     "metadata": {},
     "output_type": "execute_result"
    }
   ],
   "source": [
    "from sklearn.linear_model import LinearRegression\n",
    "# Create a Linear regression model\n",
    "LinearReg = LinearRegression()\n",
    "\n",
    "# Train the model using \n",
    "\n",
    "LinearReg.fit(x_train,y_train)\n",
    "\n",
    "LinearReg.coef_\n"
   ]
  },
  {
   "cell_type": "code",
   "execution_count": 1008,
   "id": "30b1fb47",
   "metadata": {},
   "outputs": [
    {
     "data": {
      "text/plain": [
       "-30207385707.40367"
      ]
     },
     "execution_count": 1008,
     "metadata": {},
     "output_type": "execute_result"
    }
   ],
   "source": [
    "LinearReg.intercept_"
   ]
  },
  {
   "cell_type": "code",
   "execution_count": 1009,
   "id": "3cb3cdb8",
   "metadata": {},
   "outputs": [],
   "source": [
    "# Now use the predict method on the testing data (x_test) and save it to the array predictions\n",
    "predictions = LinearReg.predict(x_test)\n"
   ]
  },
  {
   "cell_type": "code",
   "execution_count": 1010,
   "id": "dd2b4844",
   "metadata": {},
   "outputs": [
    {
     "data": {
      "text/plain": [
       "0.11572253325834554"
      ]
     },
     "execution_count": 1010,
     "metadata": {},
     "output_type": "execute_result"
    }
   ],
   "source": [
    "#Using the predictions and the y_test dataframe calculate the value for each metric using the appropriate function.\n",
    "\n",
    "from sklearn.metrics import mean_squared_error\n",
    "MSE = mean_squared_error(y_test,predictions)\n",
    "MSE"
   ]
  },
  {
   "cell_type": "code",
   "execution_count": 1011,
   "id": "5f39c483",
   "metadata": {},
   "outputs": [
    {
     "data": {
      "text/plain": [
       "0.4271224518697301"
      ]
     },
     "execution_count": 1011,
     "metadata": {},
     "output_type": "execute_result"
    }
   ],
   "source": [
    "from sklearn.metrics import r2_score\n",
    "R2 = r2_score(y_test,predictions)\n",
    "R2"
   ]
  },
  {
   "cell_type": "code",
   "execution_count": 1012,
   "id": "c00c505b",
   "metadata": {},
   "outputs": [
    {
     "data": {
      "text/plain": [
       "0.25632179202014255"
      ]
     },
     "execution_count": 1012,
     "metadata": {},
     "output_type": "execute_result"
    }
   ],
   "source": [
    "from sklearn.metrics import mean_absolute_error\n",
    "MAE = mean_absolute_error(y_test, predictions)\n",
    "MAE"
   ]
  },
  {
   "cell_type": "markdown",
   "id": "973a07b2",
   "metadata": {},
   "source": [
    "# Evaluation Metrics in Regression"
   ]
  },
  {
   "cell_type": "code",
   "execution_count": 1013,
   "id": "eb2eac3a",
   "metadata": {},
   "outputs": [
    {
     "data": {
      "text/html": [
       "<div>\n",
       "<style scoped>\n",
       "    .dataframe tbody tr th:only-of-type {\n",
       "        vertical-align: middle;\n",
       "    }\n",
       "\n",
       "    .dataframe tbody tr th {\n",
       "        vertical-align: top;\n",
       "    }\n",
       "\n",
       "    .dataframe thead th {\n",
       "        text-align: right;\n",
       "    }\n",
       "</style>\n",
       "<table border=\"1\" class=\"dataframe\">\n",
       "  <thead>\n",
       "    <tr style=\"text-align: right;\">\n",
       "      <th></th>\n",
       "      <th>Metric</th>\n",
       "      <th>Value</th>\n",
       "    </tr>\n",
       "  </thead>\n",
       "  <tbody>\n",
       "    <tr>\n",
       "      <th>0</th>\n",
       "      <td>Mean Absolute Error (MAE)</td>\n",
       "      <td>0.256322</td>\n",
       "    </tr>\n",
       "    <tr>\n",
       "      <th>1</th>\n",
       "      <td>Mean Squared Error (MSE)</td>\n",
       "      <td>0.115723</td>\n",
       "    </tr>\n",
       "    <tr>\n",
       "      <th>2</th>\n",
       "      <td>R^2</td>\n",
       "      <td>0.427122</td>\n",
       "    </tr>\n",
       "  </tbody>\n",
       "</table>\n",
       "</div>"
      ],
      "text/plain": [
       "                      Metric     Value\n",
       "0  Mean Absolute Error (MAE)  0.256322\n",
       "1   Mean Squared Error (MSE)  0.115723\n",
       "2                        R^2  0.427122"
      ]
     },
     "execution_count": 1013,
     "metadata": {},
     "output_type": "execute_result"
    }
   ],
   "source": [
    "# Show the MAE, MSE, and R2 in a tabular format using data frame for the linear mode\n",
    "from sklearn.metrics import mean_absolute_error, mean_squared_error, r2_score\n",
    "metrics_df = pd.DataFrame({\n",
    "    'Metric': ['Mean Absolute Error (MAE)', 'Mean Squared Error (MSE)', 'R^2'],\n",
    "    'Value': [MAE, MSE, R2]\n",
    "})\n",
    "metrics_df"
   ]
  },
  {
   "cell_type": "markdown",
   "id": "cc686ee5",
   "metadata": {},
   "source": [
    "# Classification : Classified soome unknown items into discrete value of  classes."
   ]
  },
  {
   "cell_type": "markdown",
   "id": "17949500",
   "metadata": {},
   "source": [
    "# KNN : Predict the nearest K-Value according to training Data"
   ]
  },
  {
   "cell_type": "code",
   "execution_count": 1014,
   "id": "706860c2",
   "metadata": {},
   "outputs": [],
   "source": [
    "# K-Nearest Neighbour: Classified the Target varible and fine the nearest neighbor\n",
    "\n",
    "from sklearn.neighbors import KNeighborsClassifier\n",
    "\n",
    "## Create a KNN Model with n_neighbors to set to 5\n",
    "KNN = KNeighborsClassifier(n_neighbors=5)\n",
    "\n",
    "# Train the Model\n",
    "KNN.fit(x_train,y_train)\n",
    "\n",
    "# Make Predictions\n",
    "KNN_pred = KNN.predict(x_test)\n"
   ]
  },
  {
   "cell_type": "markdown",
   "id": "30160fcd",
   "metadata": {},
   "source": [
    "# Evaluation Metrics in Classification"
   ]
  },
  {
   "cell_type": "markdown",
   "id": "2157d1fc",
   "metadata": {},
   "source": [
    "# 1. Jaccard Index : Interesection of Two label set / Union of Two label set"
   ]
  },
  {
   "cell_type": "code",
   "execution_count": 1015,
   "id": "1285fdd8",
   "metadata": {},
   "outputs": [
    {
     "data": {
      "text/plain": [
       "[0.4660633484162896, 0.4660633484162896]"
      ]
     },
     "execution_count": 1015,
     "metadata": {},
     "output_type": "execute_result"
    }
   ],
   "source": [
    "from sklearn.metrics import accuracy_score,f1_score,precision_score,recall_score, jaccard_score\n",
    "from sklearn.metrics import confusion_matrix\n",
    "jaccard_KNN = []\n",
    "for class_label in np.unique(y_train):\n",
    "    y_test_binary = (y_test).astype(int)\n",
    "    KNN_pred_binary = (KNN_pred).astype(int)\n",
    "    jaccard = jaccard_score(y_test_binary, KNN_pred_binary)\n",
    "    jaccard_KNN.append(jaccard)\n",
    "jaccard_KNN    \n",
    "    "
   ]
  },
  {
   "cell_type": "markdown",
   "id": "edcb8d73",
   "metadata": {},
   "source": [
    "# 2. Confusion matrix "
   ]
  },
  {
   "cell_type": "code",
   "execution_count": 1016,
   "id": "80e5c3a6",
   "metadata": {},
   "outputs": [
    {
     "data": {
      "text/plain": [
       "array([[434,  37],\n",
       "       [ 81, 103]])"
      ]
     },
     "execution_count": 1016,
     "metadata": {},
     "output_type": "execute_result"
    }
   ],
   "source": [
    "conf_matrix = confusion_matrix(y_test,KNN_pred) # TP , FN\n",
    "conf_matrix                                     # FP, TN\n",
    "\n"
   ]
  },
  {
   "cell_type": "code",
   "execution_count": 1017,
   "id": "09501618",
   "metadata": {},
   "outputs": [
    {
     "name": "stderr",
     "output_type": "stream",
     "text": [
      "/opt/anaconda3/lib/python3.11/site-packages/seaborn/_oldcore.py:1119: FutureWarning: use_inf_as_na option is deprecated and will be removed in a future version. Convert inf values to NaN before operating instead.\n",
      "  with pd.option_context('mode.use_inf_as_na', True):\n",
      "/opt/anaconda3/lib/python3.11/site-packages/seaborn/_oldcore.py:1119: FutureWarning: use_inf_as_na option is deprecated and will be removed in a future version. Convert inf values to NaN before operating instead.\n",
      "  with pd.option_context('mode.use_inf_as_na', True):\n"
     ]
    },
    {
     "data": {
      "image/png": "[encoded data removed]",
      "text/plain": [
       "<Figure size 640x480 with 1 Axes>"
      ]
     },
     "metadata": {},
     "output_type": "display_data"
    }
   ],
   "source": [
    "ax1 = sns.kdeplot(y_test, color = \"r\", label = 'Actual Values') # Plotting the actual value\n",
    "sns.kdeplot(KNN_pred,  color = \"b\",label = \"Predicted Values\", ax= ax1 ) # Plotting the predicated value\n",
    "ax1.set_title('Confusion Matrix')\n",
    "ax1.set_xlabel('Predicted')\n",
    "ax1.set_ylabel('Actual')\n",
    "ax1.legend()\n",
    "plt.show()"
   ]
  },
  {
   "cell_type": "markdown",
   "id": "f1504fde",
   "metadata": {},
   "source": [
    "# 3. Precision, Recall and F1 Score"
   ]
  },
  {
   "cell_type": "code",
   "execution_count": 1018,
   "id": "c116791f",
   "metadata": {},
   "outputs": [
    {
     "data": {
      "text/plain": [
       "0.7357142857142858"
      ]
     },
     "execution_count": 1018,
     "metadata": {},
     "output_type": "execute_result"
    }
   ],
   "source": [
    "precision_KNN = precision_score(y_test,KNN_pred) #  Precision = TP/ (TP+FP) \n",
    "precision_KNN"
   ]
  },
  {
   "cell_type": "code",
   "execution_count": 1019,
   "id": "af707e16",
   "metadata": {},
   "outputs": [
    {
     "data": {
      "text/plain": [
       "0.5597826086956522"
      ]
     },
     "execution_count": 1019,
     "metadata": {},
     "output_type": "execute_result"
    }
   ],
   "source": [
    "recall_KNN = recall_score(y_test,KNN_pred) # Recall = TP / (TP + FN)\n",
    "recall_KNN"
   ]
  },
  {
   "cell_type": "code",
   "execution_count": 1020,
   "id": "e63a7a8b",
   "metadata": {},
   "outputs": [
    {
     "data": {
      "text/plain": [
       "0.6358024691358024"
      ]
     },
     "execution_count": 1020,
     "metadata": {},
     "output_type": "execute_result"
    }
   ],
   "source": [
    "f1_KNN = f1_score(y_test,KNN_pred)      # F1_Score = 2(prc * rec)/ (prc + rec)\n",
    "f1_KNN  "
   ]
  },
  {
   "cell_type": "code",
   "execution_count": 1021,
   "id": "08612c82",
   "metadata": {},
   "outputs": [
    {
     "data": {
      "text/plain": [
       "0.8198473282442749"
      ]
     },
     "execution_count": 1021,
     "metadata": {},
     "output_type": "execute_result"
    }
   ],
   "source": [
    "accuracy_KNN = accuracy_score(y_test,KNN_pred)\n",
    "accuracy_KNN"
   ]
  },
  {
   "cell_type": "code",
   "execution_count": 1022,
   "id": "316c2c3f",
   "metadata": {},
   "outputs": [
    {
     "data": {
      "text/html": [
       "<div>\n",
       "<style scoped>\n",
       "    .dataframe tbody tr th:only-of-type {\n",
       "        vertical-align: middle;\n",
       "    }\n",
       "\n",
       "    .dataframe tbody tr th {\n",
       "        vertical-align: top;\n",
       "    }\n",
       "\n",
       "    .dataframe thead th {\n",
       "        text-align: right;\n",
       "    }\n",
       "</style>\n",
       "<table border=\"1\" class=\"dataframe\">\n",
       "  <thead>\n",
       "    <tr style=\"text-align: right;\">\n",
       "      <th></th>\n",
       "      <th>Metric</th>\n",
       "      <th>Value</th>\n",
       "    </tr>\n",
       "  </thead>\n",
       "  <tbody>\n",
       "    <tr>\n",
       "      <th>0</th>\n",
       "      <td>Accuracy Score</td>\n",
       "      <td>0.819847</td>\n",
       "    </tr>\n",
       "    <tr>\n",
       "      <th>1</th>\n",
       "      <td>Jaccard Index</td>\n",
       "      <td>[0.4660633484162896, 0.4660633484162896]</td>\n",
       "    </tr>\n",
       "    <tr>\n",
       "      <th>2</th>\n",
       "      <td>F1_score</td>\n",
       "      <td>0.635802</td>\n",
       "    </tr>\n",
       "  </tbody>\n",
       "</table>\n",
       "</div>"
      ],
      "text/plain": [
       "           Metric                                     Value\n",
       "0  Accuracy Score                                  0.819847\n",
       "1   Jaccard Index  [0.4660633484162896, 0.4660633484162896]\n",
       "2        F1_score                                  0.635802"
      ]
     },
     "execution_count": 1022,
     "metadata": {},
     "output_type": "execute_result"
    }
   ],
   "source": [
    "\n",
    "from sklearn.metrics import mean_absolute_error, mean_squared_error, r2_score\n",
    "metrics_df = pd.DataFrame({\n",
    "    'Metric': ['Accuracy Score', 'Jaccard Index', 'F1_score'],\n",
    "    'Value': [accuracy_KNN,jaccard_KNN,f1_KNN  ]\n",
    "})\n",
    "metrics_df"
   ]
  },
  {
   "cell_type": "markdown",
   "id": "24822b43",
   "metadata": {},
   "source": [
    "# Decision Tree : Split the Data based on value of the best attributes"
   ]
  },
  {
   "cell_type": "code",
   "execution_count": 1023,
   "id": "59b47e75",
   "metadata": {},
   "outputs": [],
   "source": [
    "# Here, We are predict the chance of rain in tomorrow according to our feature data\n",
    "\n",
    "# Spilt the our Labeled Data "
   ]
  },
  {
   "cell_type": "code",
   "execution_count": 1024,
   "id": "a3f0dcaa",
   "metadata": {},
   "outputs": [],
   "source": [
    "from sklearn.tree import DecisionTreeClassifier\n",
    "\n",
    "# Create the Decision Tree model\n",
    "decision_tree = DecisionTreeClassifier(random_state=42)\n",
    "\n",
    "# Train the model\n",
    "decision_tree.fit(x_train, y_train)\n",
    "\n",
    "# Make predictions\n",
    "tree_pred = decision_tree.predict(x_test)"
   ]
  },
  {
   "cell_type": "code",
   "execution_count": 1025,
   "id": "4a2a9a80",
   "metadata": {},
   "outputs": [
    {
     "data": {
      "text/plain": [
       "array([[389,  82],\n",
       "       [ 82, 102]])"
      ]
     },
     "execution_count": 1025,
     "metadata": {},
     "output_type": "execute_result"
    }
   ],
   "source": [
    "conf_matrix = confusion_matrix(y_test,tree_pred) # TP , TF\n",
    "conf_matrix                                     # FP, FN\n"
   ]
  },
  {
   "cell_type": "markdown",
   "id": "c9688825",
   "metadata": {},
   "source": [
    "# Evaluation of Decision Tree "
   ]
  },
  {
   "cell_type": "code",
   "execution_count": 1026,
   "id": "259954d1",
   "metadata": {},
   "outputs": [
    {
     "data": {
      "text/plain": [
       "[0.38345864661654133, 0.38345864661654133]"
      ]
     },
     "execution_count": 1026,
     "metadata": {},
     "output_type": "execute_result"
    }
   ],
   "source": [
    "from sklearn.metrics import accuracy_score,f1_score,precision_score,recall_score, jaccard_score\n",
    "from sklearn.metrics import confusion_matrix\n",
    "jaccard_tree = []\n",
    "for class_label in np.unique(y_train):\n",
    "    y_test_binary = (y_test).astype(int)\n",
    "    tree_pred_binary = (tree_pred).astype(int)\n",
    "    jaccard = jaccard_score(y_test_binary, tree_pred_binary)\n",
    "    jaccard_tree.append(jaccard)\n",
    "jaccard_tree  "
   ]
  },
  {
   "cell_type": "code",
   "execution_count": 1027,
   "id": "d5e201ed",
   "metadata": {},
   "outputs": [
    {
     "data": {
      "text/plain": [
       "0.5543478260869565"
      ]
     },
     "execution_count": 1027,
     "metadata": {},
     "output_type": "execute_result"
    }
   ],
   "source": [
    "precision_tree = precision_score(y_test,tree_pred) #  Precision = TP/ (TP+FP) \n",
    "precision_tree"
   ]
  },
  {
   "cell_type": "code",
   "execution_count": 1028,
   "id": "e8207b00",
   "metadata": {},
   "outputs": [
    {
     "data": {
      "text/plain": [
       "0.5543478260869565"
      ]
     },
     "execution_count": 1028,
     "metadata": {},
     "output_type": "execute_result"
    }
   ],
   "source": [
    "recall_tree = recall_score(y_test,tree_pred) # Recall = TP / (TP + FN)\n",
    "recall_tree"
   ]
  },
  {
   "cell_type": "code",
   "execution_count": 1029,
   "id": "0773b770",
   "metadata": {},
   "outputs": [
    {
     "data": {
      "text/plain": [
       "0.5543478260869565"
      ]
     },
     "execution_count": 1029,
     "metadata": {},
     "output_type": "execute_result"
    }
   ],
   "source": [
    "f1_tree = f1_score(y_test,tree_pred)      # F1_Score = 2(prc * rec)/ (prc + rec)\n",
    "f1_tree"
   ]
  },
  {
   "cell_type": "code",
   "execution_count": 1030,
   "id": "9336f984",
   "metadata": {},
   "outputs": [
    {
     "data": {
      "text/plain": [
       "0.749618320610687"
      ]
     },
     "execution_count": 1030,
     "metadata": {},
     "output_type": "execute_result"
    }
   ],
   "source": [
    "accuracy_tree = accuracy_score(y_test,tree_pred)\n",
    "accuracy_tree"
   ]
  },
  {
   "cell_type": "code",
   "execution_count": 1031,
   "id": "cf97fe2e",
   "metadata": {},
   "outputs": [
    {
     "data": {
      "text/html": [
       "<div>\n",
       "<style scoped>\n",
       "    .dataframe tbody tr th:only-of-type {\n",
       "        vertical-align: middle;\n",
       "    }\n",
       "\n",
       "    .dataframe tbody tr th {\n",
       "        vertical-align: top;\n",
       "    }\n",
       "\n",
       "    .dataframe thead th {\n",
       "        text-align: right;\n",
       "    }\n",
       "</style>\n",
       "<table border=\"1\" class=\"dataframe\">\n",
       "  <thead>\n",
       "    <tr style=\"text-align: right;\">\n",
       "      <th></th>\n",
       "      <th>Metric</th>\n",
       "      <th>Value</th>\n",
       "    </tr>\n",
       "  </thead>\n",
       "  <tbody>\n",
       "    <tr>\n",
       "      <th>0</th>\n",
       "      <td>Accuracy Score</td>\n",
       "      <td>0.749618</td>\n",
       "    </tr>\n",
       "    <tr>\n",
       "      <th>1</th>\n",
       "      <td>Jaccard Index</td>\n",
       "      <td>[0.38345864661654133, 0.38345864661654133]</td>\n",
       "    </tr>\n",
       "    <tr>\n",
       "      <th>2</th>\n",
       "      <td>F1_score</td>\n",
       "      <td>0.554348</td>\n",
       "    </tr>\n",
       "  </tbody>\n",
       "</table>\n",
       "</div>"
      ],
      "text/plain": [
       "           Metric                                       Value\n",
       "0  Accuracy Score                                    0.749618\n",
       "1   Jaccard Index  [0.38345864661654133, 0.38345864661654133]\n",
       "2        F1_score                                    0.554348"
      ]
     },
     "execution_count": 1031,
     "metadata": {},
     "output_type": "execute_result"
    }
   ],
   "source": [
    "from sklearn.metrics import mean_absolute_error, mean_squared_error, r2_score\n",
    "metrics_df = pd.DataFrame({\n",
    "    'Metric': ['Accuracy Score', 'Jaccard Index', 'F1_score'],\n",
    "    'Value': [accuracy_tree,jaccard_tree,f1_tree  ]\n",
    "})\n",
    "metrics_df"
   ]
  },
  {
   "cell_type": "code",
   "execution_count": 1032,
   "id": "8734d1d2",
   "metadata": {},
   "outputs": [],
   "source": [
    "# Conclusion : We get more accurate result by KNN compared to Decision tree.\n",
    "\n",
    "# Because our data set in from on numerical and it is hard to spilt it by such a category.\n",
    "\n",
    "# If we have a DataFrame in Categorical form then Decision Tree will give better result."
   ]
  },
  {
   "cell_type": "markdown",
   "id": "a1198b45",
   "metadata": {},
   "source": [
    "# Logistic Regression:"
   ]
  },
  {
   "cell_type": "code",
   "execution_count": 1033,
   "id": "e5c805dc",
   "metadata": {},
   "outputs": [],
   "source": [
    "\n",
    "# Point 1: We predict value (Dependent Variable) in Binary form (0 and 1, Yes or No)\n",
    "# Independent Variable should be in Continuos form\n"
   ]
  },
  {
   "cell_type": "code",
   "execution_count": 1034,
   "id": "ffad283d",
   "metadata": {},
   "outputs": [
    {
     "data": {
      "text/plain": [
       "array([[443,  28],\n",
       "       [ 74, 110]])"
      ]
     },
     "execution_count": 1034,
     "metadata": {},
     "output_type": "execute_result"
    }
   ],
   "source": [
    "conf_matrix = confusion_matrix(y_test,log_pred) \n",
    "conf_matrix  \n"
   ]
  },
  {
   "cell_type": "markdown",
   "id": "b3208dc3",
   "metadata": {},
   "source": [
    "# Evaluation of LogisticRegression"
   ]
  },
  {
   "cell_type": "code",
   "execution_count": 1035,
   "id": "5108107b",
   "metadata": {},
   "outputs": [
    {
     "data": {
      "text/plain": [
       "[0.5188679245283019, 0.5188679245283019]"
      ]
     },
     "execution_count": 1035,
     "metadata": {},
     "output_type": "execute_result"
    }
   ],
   "source": [
    "from sklearn.metrics import accuracy_score,f1_score,precision_score,recall_score, jaccard_score\n",
    "from sklearn.metrics import confusion_matrix\n",
    "jaccard_log = []\n",
    "for class_label in np.unique(y_train):\n",
    "    y_test_binary = (y_test).astype(int)\n",
    "    log_pred_binary = (log_pred).astype(int)\n",
    "    jaccard = jaccard_score(y_test_binary, log_pred_binary)\n",
    "    jaccard_log.append(jaccard)\n",
    "jaccard_log"
   ]
  },
  {
   "cell_type": "code",
   "execution_count": 1036,
   "id": "2868610e",
   "metadata": {},
   "outputs": [
    {
     "data": {
      "text/plain": [
       "0.7971014492753623"
      ]
     },
     "execution_count": 1036,
     "metadata": {},
     "output_type": "execute_result"
    }
   ],
   "source": [
    "precision_log = precision_score(y_test,log_pred) #  Precision = TP/ (TP+FP) \n",
    "precision_log"
   ]
  },
  {
   "cell_type": "code",
   "execution_count": 1037,
   "id": "4f3bb3ec",
   "metadata": {},
   "outputs": [
    {
     "data": {
      "text/plain": [
       "0.5978260869565217"
      ]
     },
     "execution_count": 1037,
     "metadata": {},
     "output_type": "execute_result"
    }
   ],
   "source": [
    "recall_log = recall_score(y_test,log_pred) # Recall = TP / (TP + FN)\n",
    "recall_log"
   ]
  },
  {
   "cell_type": "code",
   "execution_count": 1038,
   "id": "b111644b",
   "metadata": {},
   "outputs": [
    {
     "data": {
      "text/plain": [
       "0.6832298136645962"
      ]
     },
     "execution_count": 1038,
     "metadata": {},
     "output_type": "execute_result"
    }
   ],
   "source": [
    "f1_log = f1_score(y_test,log_pred)      # F1_Score = 2(prc * rec)/ (prc + rec)\n",
    "f1_log"
   ]
  },
  {
   "cell_type": "code",
   "execution_count": 1039,
   "id": "07951667",
   "metadata": {},
   "outputs": [
    {
     "data": {
      "text/plain": [
       "0.8442748091603054"
      ]
     },
     "execution_count": 1039,
     "metadata": {},
     "output_type": "execute_result"
    }
   ],
   "source": [
    "accuracy_log = accuracy_score(y_test,log_pred)\n",
    "accuracy_log"
   ]
  },
  {
   "cell_type": "code",
   "execution_count": 1040,
   "id": "7819a05d",
   "metadata": {
    "scrolled": true
   },
   "outputs": [
    {
     "data": {
      "text/html": [
       "<div>\n",
       "<style scoped>\n",
       "    .dataframe tbody tr th:only-of-type {\n",
       "        vertical-align: middle;\n",
       "    }\n",
       "\n",
       "    .dataframe tbody tr th {\n",
       "        vertical-align: top;\n",
       "    }\n",
       "\n",
       "    .dataframe thead th {\n",
       "        text-align: right;\n",
       "    }\n",
       "</style>\n",
       "<table border=\"1\" class=\"dataframe\">\n",
       "  <thead>\n",
       "    <tr style=\"text-align: right;\">\n",
       "      <th></th>\n",
       "      <th>Metric</th>\n",
       "      <th>Value</th>\n",
       "    </tr>\n",
       "  </thead>\n",
       "  <tbody>\n",
       "    <tr>\n",
       "      <th>0</th>\n",
       "      <td>Accuracy Score</td>\n",
       "      <td>0.844275</td>\n",
       "    </tr>\n",
       "    <tr>\n",
       "      <th>1</th>\n",
       "      <td>Jaccard Index</td>\n",
       "      <td>[0.5188679245283019, 0.5188679245283019]</td>\n",
       "    </tr>\n",
       "    <tr>\n",
       "      <th>2</th>\n",
       "      <td>F1_score</td>\n",
       "      <td>0.68323</td>\n",
       "    </tr>\n",
       "  </tbody>\n",
       "</table>\n",
       "</div>"
      ],
      "text/plain": [
       "           Metric                                     Value\n",
       "0  Accuracy Score                                  0.844275\n",
       "1   Jaccard Index  [0.5188679245283019, 0.5188679245283019]\n",
       "2        F1_score                                   0.68323"
      ]
     },
     "execution_count": 1040,
     "metadata": {},
     "output_type": "execute_result"
    }
   ],
   "source": [
    "from sklearn.metrics import mean_absolute_error, mean_squared_error, r2_score\n",
    "metrics_df = pd.DataFrame({\n",
    "    'Metric': ['Accuracy Score', 'Jaccard Index', 'F1_score'],\n",
    "    'Value': [accuracy_log,jaccard_log,f1_log  ]\n",
    "})\n",
    "metrics_df"
   ]
  },
  {
   "cell_type": "code",
   "execution_count": 1041,
   "id": "0e2e10fa",
   "metadata": {},
   "outputs": [],
   "source": [
    "# Out of three Algorithms: Logistic regression method is suitable for this DataFrame\n"
   ]
  },
  {
   "cell_type": "markdown",
   "id": "63943307",
   "metadata": {},
   "source": [
    "# NeuralNetworks : Useful for time series analysis, time series forecasting, Image classification, Object Detectrion"
   ]
  },
  {
   "cell_type": "markdown",
   "id": "c5e02dda",
   "metadata": {},
   "source": [
    "# 1. Feedforward Neural Network: Input node to Hidden Node to Output Node"
   ]
  },
  {
   "cell_type": "code",
   "execution_count": 1042,
   "id": "9a542acd",
   "metadata": {},
   "outputs": [],
   "source": [
    "from sklearn.neural_network import MLPClassifier"
   ]
  },
  {
   "cell_type": "code",
   "execution_count": 1043,
   "id": "54655343",
   "metadata": {},
   "outputs": [],
   "source": [
    "# Create the feedforward neural network model (MLP)\n",
    "# Setting random_state to ensure reproducibility\n",
    "# One hidden layer with 100 neurons\n",
    "mlp = MLPClassifier (hidden_layer_sizes=(100,), max_iter=200, random_state=42)\n",
    "                    \n",
    "# Train the model\n",
    "mlp.fit(x_train, y_train)\n",
    "                    \n",
    "# Make predictions\n",
    "FFN_pred = mlp.predict(x_test)                   "
   ]
  },
  {
   "cell_type": "code",
   "execution_count": 1044,
   "id": "a6200a64",
   "metadata": {},
   "outputs": [],
   "source": [
    "# Evaluation of the FeedForward Neural Network"
   ]
  },
  {
   "cell_type": "code",
   "execution_count": 1045,
   "id": "80ed574e",
   "metadata": {},
   "outputs": [
    {
     "data": {
      "text/plain": [
       "[0.37755102040816324, 0.37755102040816324]"
      ]
     },
     "execution_count": 1045,
     "metadata": {},
     "output_type": "execute_result"
    }
   ],
   "source": [
    "from sklearn.metrics import accuracy_score,f1_score,precision_score,recall_score, jaccard_score\n",
    "from sklearn.metrics import confusion_matrix\n",
    "jaccard_FFN = []\n",
    "for class_label in np.unique(y_train):\n",
    "    y_test_binary = (y_test).astype(int)\n",
    "    FFN_pred_binary = (FFN_pred).astype(int)\n",
    "    jaccard = jaccard_score(y_test_binary, FFN_pred_binary)\n",
    "    jaccard_FFN.append(jaccard)\n",
    "jaccard_FFN"
   ]
  },
  {
   "cell_type": "code",
   "execution_count": 1046,
   "id": "1b59a417",
   "metadata": {},
   "outputs": [
    {
     "data": {
      "text/plain": [
       "array([[459,  12],\n",
       "       [110,  74]])"
      ]
     },
     "execution_count": 1046,
     "metadata": {},
     "output_type": "execute_result"
    }
   ],
   "source": [
    "conf_matrix = confusion_matrix(y_test,FFN_pred) \n",
    "conf_matrix "
   ]
  },
  {
   "cell_type": "code",
   "execution_count": 1047,
   "id": "c4452593",
   "metadata": {},
   "outputs": [
    {
     "data": {
      "text/plain": [
       "0.8604651162790697"
      ]
     },
     "execution_count": 1047,
     "metadata": {},
     "output_type": "execute_result"
    }
   ],
   "source": [
    "precision_FFN = precision_score(y_test,FFN_pred) #  Precision = TP/ (TP+FP) \n",
    "precision_FFN"
   ]
  },
  {
   "cell_type": "code",
   "execution_count": 1048,
   "id": "1ec6d910",
   "metadata": {},
   "outputs": [
    {
     "data": {
      "text/plain": [
       "0.40217391304347827"
      ]
     },
     "execution_count": 1048,
     "metadata": {},
     "output_type": "execute_result"
    }
   ],
   "source": [
    "recall_FFN = recall_score(y_test,FFN_pred) # Recall = TP / (TP + FN)\n",
    "recall_FFN"
   ]
  },
  {
   "cell_type": "code",
   "execution_count": 1049,
   "id": "f917d5b9",
   "metadata": {},
   "outputs": [
    {
     "data": {
      "text/plain": [
       "0.5481481481481482"
      ]
     },
     "execution_count": 1049,
     "metadata": {},
     "output_type": "execute_result"
    }
   ],
   "source": [
    "f1_FFN = f1_score(y_test,FFN_pred)      # F1_Score = 2(prc * rec)/ (prc + rec)\n",
    "f1_FFN"
   ]
  },
  {
   "cell_type": "code",
   "execution_count": 1050,
   "id": "07d281aa",
   "metadata": {},
   "outputs": [
    {
     "data": {
      "text/plain": [
       "0.8137404580152672"
      ]
     },
     "execution_count": 1050,
     "metadata": {},
     "output_type": "execute_result"
    }
   ],
   "source": [
    "accuracy_FFN = accuracy_score(y_test,FFN_pred)\n",
    "accuracy_FFN"
   ]
  },
  {
   "cell_type": "code",
   "execution_count": 1051,
   "id": "34f41e7a",
   "metadata": {},
   "outputs": [
    {
     "data": {
      "text/html": [
       "<div>\n",
       "<style scoped>\n",
       "    .dataframe tbody tr th:only-of-type {\n",
       "        vertical-align: middle;\n",
       "    }\n",
       "\n",
       "    .dataframe tbody tr th {\n",
       "        vertical-align: top;\n",
       "    }\n",
       "\n",
       "    .dataframe thead th {\n",
       "        text-align: right;\n",
       "    }\n",
       "</style>\n",
       "<table border=\"1\" class=\"dataframe\">\n",
       "  <thead>\n",
       "    <tr style=\"text-align: right;\">\n",
       "      <th></th>\n",
       "      <th>Metric</th>\n",
       "      <th>Value</th>\n",
       "    </tr>\n",
       "  </thead>\n",
       "  <tbody>\n",
       "    <tr>\n",
       "      <th>0</th>\n",
       "      <td>Accuracy Score</td>\n",
       "      <td>0.81374</td>\n",
       "    </tr>\n",
       "    <tr>\n",
       "      <th>1</th>\n",
       "      <td>Jaccard Index</td>\n",
       "      <td>[0.37755102040816324, 0.37755102040816324]</td>\n",
       "    </tr>\n",
       "    <tr>\n",
       "      <th>2</th>\n",
       "      <td>F1_score</td>\n",
       "      <td>0.548148</td>\n",
       "    </tr>\n",
       "  </tbody>\n",
       "</table>\n",
       "</div>"
      ],
      "text/plain": [
       "           Metric                                       Value\n",
       "0  Accuracy Score                                     0.81374\n",
       "1   Jaccard Index  [0.37755102040816324, 0.37755102040816324]\n",
       "2        F1_score                                    0.548148"
      ]
     },
     "execution_count": 1051,
     "metadata": {},
     "output_type": "execute_result"
    }
   ],
   "source": [
    "metrics_df = pd.DataFrame({\n",
    "    'Metric': ['Accuracy Score', 'Jaccard Index', 'F1_score'],\n",
    "    'Value': [accuracy_FFN,jaccard_FFN,f1_FFN  ]\n",
    "})\n",
    "metrics_df"
   ]
  },
  {
   "cell_type": "markdown",
   "id": "98e30d1f",
   "metadata": {},
   "source": [
    "# 2: Recurrent Neural Networks with LSTM Model: Hidden layer has memory of previous input using loop within the network: "
   ]
  },
  {
   "cell_type": "code",
   "execution_count": 1062,
   "id": "f7beed1d",
   "metadata": {},
   "outputs": [
    {
     "name": "stdout",
     "output_type": "stream",
     "text": [
      "Epoch 1/50\n"
     ]
    },
    {
     "name": "stderr",
     "output_type": "stream",
     "text": [
      "/opt/anaconda3/lib/python3.11/site-packages/keras/src/layers/rnn/rnn.py:204: UserWarning: Do not pass an `input_shape`/`input_dim` argument to a layer. When using Sequential models, prefer using an `Input(shape)` object as the first layer in the model instead.\n",
      "  super().__init__(**kwargs)\n"
     ]
    },
    {
     "name": "stdout",
     "output_type": "stream",
     "text": [
      "\u001b[1m82/82\u001b[0m \u001b[32m━━━━━━━━━━━━━━━━━━━━\u001b[0m\u001b[37m\u001b[0m \u001b[1m1s\u001b[0m 2ms/step - accuracy: 0.7449 - loss: 0.7371 - val_accuracy: 0.7267 - val_loss: 0.6325\n",
      "Epoch 2/50\n",
      "\u001b[1m82/82\u001b[0m \u001b[32m━━━━━━━━━━━━━━━━━━━━\u001b[0m\u001b[37m\u001b[0m \u001b[1m0s\u001b[0m 558us/step - accuracy: 0.7524 - loss: 0.6053 - val_accuracy: 0.7267 - val_loss: 0.5886\n",
      "Epoch 3/50\n",
      "\u001b[1m82/82\u001b[0m \u001b[32m━━━━━━━━━━━━━━━━━━━━\u001b[0m\u001b[37m\u001b[0m \u001b[1m0s\u001b[0m 549us/step - accuracy: 0.7346 - loss: 0.5802 - val_accuracy: 0.7267 - val_loss: 0.5689\n",
      "Epoch 4/50\n",
      "\u001b[1m82/82\u001b[0m \u001b[32m━━━━━━━━━━━━━━━━━━━━\u001b[0m\u001b[37m\u001b[0m \u001b[1m0s\u001b[0m 560us/step - accuracy: 0.7489 - loss: 0.5513 - val_accuracy: 0.7267 - val_loss: 0.5595\n",
      "Epoch 5/50\n",
      "\u001b[1m82/82\u001b[0m \u001b[32m━━━━━━━━━━━━━━━━━━━━\u001b[0m\u001b[37m\u001b[0m \u001b[1m0s\u001b[0m 589us/step - accuracy: 0.7464 - loss: 0.5556 - val_accuracy: 0.7267 - val_loss: 0.5491\n",
      "Epoch 6/50\n",
      "\u001b[1m82/82\u001b[0m \u001b[32m━━━━━━━━━━━━━━━━━━━━\u001b[0m\u001b[37m\u001b[0m \u001b[1m0s\u001b[0m 539us/step - accuracy: 0.7367 - loss: 0.5533 - val_accuracy: 0.7267 - val_loss: 0.5471\n",
      "Epoch 7/50\n",
      "\u001b[1m82/82\u001b[0m \u001b[32m━━━━━━━━━━━━━━━━━━━━\u001b[0m\u001b[37m\u001b[0m \u001b[1m0s\u001b[0m 546us/step - accuracy: 0.7343 - loss: 0.5424 - val_accuracy: 0.7267 - val_loss: 0.5274\n",
      "Epoch 8/50\n",
      "\u001b[1m82/82\u001b[0m \u001b[32m━━━━━━━━━━━━━━━━━━━━\u001b[0m\u001b[37m\u001b[0m \u001b[1m0s\u001b[0m 584us/step - accuracy: 0.7510 - loss: 0.5140 - val_accuracy: 0.7267 - val_loss: 0.5212\n",
      "Epoch 9/50\n",
      "\u001b[1m82/82\u001b[0m \u001b[32m━━━━━━━━━━━━━━━━━━━━\u001b[0m\u001b[37m\u001b[0m \u001b[1m0s\u001b[0m 728us/step - accuracy: 0.7498 - loss: 0.5173 - val_accuracy: 0.7267 - val_loss: 0.5205\n",
      "Epoch 10/50\n",
      "\u001b[1m82/82\u001b[0m \u001b[32m━━━━━━━━━━━━━━━━━━━━\u001b[0m\u001b[37m\u001b[0m \u001b[1m0s\u001b[0m 624us/step - accuracy: 0.7580 - loss: 0.5032 - val_accuracy: 0.7267 - val_loss: 0.5169\n",
      "Epoch 11/50\n",
      "\u001b[1m82/82\u001b[0m \u001b[32m━━━━━━━━━━━━━━━━━━━━\u001b[0m\u001b[37m\u001b[0m \u001b[1m0s\u001b[0m 575us/step - accuracy: 0.7602 - loss: 0.5068 - val_accuracy: 0.7267 - val_loss: 0.5022\n",
      "Epoch 12/50\n",
      "\u001b[1m82/82\u001b[0m \u001b[32m━━━━━━━━━━━━━━━━━━━━\u001b[0m\u001b[37m\u001b[0m \u001b[1m0s\u001b[0m 551us/step - accuracy: 0.7780 - loss: 0.4943 - val_accuracy: 0.7267 - val_loss: 0.4993\n",
      "Epoch 13/50\n",
      "\u001b[1m82/82\u001b[0m \u001b[32m━━━━━━━━━━━━━━━━━━━━\u001b[0m\u001b[37m\u001b[0m \u001b[1m0s\u001b[0m 553us/step - accuracy: 0.7854 - loss: 0.4935 - val_accuracy: 0.7267 - val_loss: 0.5063\n",
      "Epoch 14/50\n",
      "\u001b[1m82/82\u001b[0m \u001b[32m━━━━━━━━━━━━━━━━━━━━\u001b[0m\u001b[37m\u001b[0m \u001b[1m0s\u001b[0m 547us/step - accuracy: 0.7854 - loss: 0.4841 - val_accuracy: 0.7282 - val_loss: 0.4952\n",
      "Epoch 15/50\n",
      "\u001b[1m82/82\u001b[0m \u001b[32m━━━━━━━━━━━━━━━━━━━━\u001b[0m\u001b[37m\u001b[0m \u001b[1m0s\u001b[0m 555us/step - accuracy: 0.7868 - loss: 0.4837 - val_accuracy: 0.8092 - val_loss: 0.4862\n",
      "Epoch 16/50\n",
      "\u001b[1m82/82\u001b[0m \u001b[32m━━━━━━━━━━━━━━━━━━━━\u001b[0m\u001b[37m\u001b[0m \u001b[1m0s\u001b[0m 554us/step - accuracy: 0.8122 - loss: 0.4752 - val_accuracy: 0.8122 - val_loss: 0.4829\n",
      "Epoch 17/50\n",
      "\u001b[1m82/82\u001b[0m \u001b[32m━━━━━━━━━━━━━━━━━━━━\u001b[0m\u001b[37m\u001b[0m \u001b[1m0s\u001b[0m 550us/step - accuracy: 0.8046 - loss: 0.4643 - val_accuracy: 0.8015 - val_loss: 0.4591\n",
      "Epoch 18/50\n",
      "\u001b[1m82/82\u001b[0m \u001b[32m━━━━━━━━━━━━━━━━━━━━\u001b[0m\u001b[37m\u001b[0m \u001b[1m0s\u001b[0m 559us/step - accuracy: 0.8221 - loss: 0.4520 - val_accuracy: 0.8061 - val_loss: 0.4534\n",
      "Epoch 19/50\n",
      "\u001b[1m82/82\u001b[0m \u001b[32m━━━━━━━━━━━━━━━━━━━━\u001b[0m\u001b[37m\u001b[0m \u001b[1m0s\u001b[0m 557us/step - accuracy: 0.8070 - loss: 0.4525 - val_accuracy: 0.8198 - val_loss: 0.4515\n",
      "Epoch 20/50\n",
      "\u001b[1m82/82\u001b[0m \u001b[32m━━━━━━━━━━━━━━━━━━━━\u001b[0m\u001b[37m\u001b[0m \u001b[1m0s\u001b[0m 550us/step - accuracy: 0.8151 - loss: 0.4422 - val_accuracy: 0.8198 - val_loss: 0.4524\n",
      "Epoch 21/50\n",
      "\u001b[1m82/82\u001b[0m \u001b[32m━━━━━━━━━━━━━━━━━━━━\u001b[0m\u001b[37m\u001b[0m \u001b[1m0s\u001b[0m 551us/step - accuracy: 0.8446 - loss: 0.4119 - val_accuracy: 0.8168 - val_loss: 0.4630\n",
      "Epoch 22/50\n",
      "\u001b[1m82/82\u001b[0m \u001b[32m━━━━━━━━━━━━━━━━━━━━\u001b[0m\u001b[37m\u001b[0m \u001b[1m0s\u001b[0m 560us/step - accuracy: 0.8066 - loss: 0.5035 - val_accuracy: 0.8076 - val_loss: 0.4703\n",
      "Epoch 23/50\n",
      "\u001b[1m82/82\u001b[0m \u001b[32m━━━━━━━━━━━━━━━━━━━━\u001b[0m\u001b[37m\u001b[0m \u001b[1m0s\u001b[0m 644us/step - accuracy: 0.8069 - loss: 0.4502 - val_accuracy: 0.8214 - val_loss: 0.4482\n",
      "Epoch 24/50\n",
      "\u001b[1m82/82\u001b[0m \u001b[32m━━━━━━━━━━━━━━━━━━━━\u001b[0m\u001b[37m\u001b[0m \u001b[1m0s\u001b[0m 554us/step - accuracy: 0.8196 - loss: 0.4434 - val_accuracy: 0.7985 - val_loss: 0.4488\n",
      "Epoch 25/50\n",
      "\u001b[1m82/82\u001b[0m \u001b[32m━━━━━━━━━━━━━━━━━━━━\u001b[0m\u001b[37m\u001b[0m \u001b[1m0s\u001b[0m 571us/step - accuracy: 0.8303 - loss: 0.4274 - val_accuracy: 0.8229 - val_loss: 0.4515\n",
      "Epoch 26/50\n",
      "\u001b[1m82/82\u001b[0m \u001b[32m━━━━━━━━━━━━━━━━━━━━\u001b[0m\u001b[37m\u001b[0m \u001b[1m0s\u001b[0m 561us/step - accuracy: 0.8229 - loss: 0.4317 - val_accuracy: 0.8107 - val_loss: 0.4479\n",
      "Epoch 27/50\n",
      "\u001b[1m82/82\u001b[0m \u001b[32m━━━━━━━━━━━━━━━━━━━━\u001b[0m\u001b[37m\u001b[0m \u001b[1m0s\u001b[0m 560us/step - accuracy: 0.8308 - loss: 0.4204 - val_accuracy: 0.8214 - val_loss: 0.4476\n",
      "Epoch 28/50\n",
      "\u001b[1m82/82\u001b[0m \u001b[32m━━━━━━━━━━━━━━━━━━━━\u001b[0m\u001b[37m\u001b[0m \u001b[1m0s\u001b[0m 568us/step - accuracy: 0.8066 - loss: 0.4437 - val_accuracy: 0.8092 - val_loss: 0.4436\n",
      "Epoch 29/50\n",
      "\u001b[1m82/82\u001b[0m \u001b[32m━━━━━━━━━━━━━━━━━━━━\u001b[0m\u001b[37m\u001b[0m \u001b[1m0s\u001b[0m 549us/step - accuracy: 0.8120 - loss: 0.4413 - val_accuracy: 0.7985 - val_loss: 0.4589\n",
      "Epoch 30/50\n",
      "\u001b[1m82/82\u001b[0m \u001b[32m━━━━━━━━━━━━━━━━━━━━\u001b[0m\u001b[37m\u001b[0m \u001b[1m0s\u001b[0m 564us/step - accuracy: 0.7943 - loss: 0.4681 - val_accuracy: 0.8244 - val_loss: 0.4459\n",
      "Epoch 31/50\n",
      "\u001b[1m82/82\u001b[0m \u001b[32m━━━━━━━━━━━━━━━━━━━━\u001b[0m\u001b[37m\u001b[0m \u001b[1m0s\u001b[0m 560us/step - accuracy: 0.8263 - loss: 0.4244 - val_accuracy: 0.8198 - val_loss: 0.4392\n",
      "Epoch 32/50\n",
      "\u001b[1m82/82\u001b[0m \u001b[32m━━━━━━━━━━━━━━━━━━━━\u001b[0m\u001b[37m\u001b[0m \u001b[1m0s\u001b[0m 667us/step - accuracy: 0.8096 - loss: 0.4579 - val_accuracy: 0.7985 - val_loss: 0.4477\n",
      "Epoch 33/50\n",
      "\u001b[1m82/82\u001b[0m \u001b[32m━━━━━━━━━━━━━━━━━━━━\u001b[0m\u001b[37m\u001b[0m \u001b[1m0s\u001b[0m 587us/step - accuracy: 0.8184 - loss: 0.4397 - val_accuracy: 0.8015 - val_loss: 0.4394\n",
      "Epoch 34/50\n",
      "\u001b[1m82/82\u001b[0m \u001b[32m━━━━━━━━━━━━━━━━━━━━\u001b[0m\u001b[37m\u001b[0m \u001b[1m0s\u001b[0m 577us/step - accuracy: 0.8040 - loss: 0.4355 - val_accuracy: 0.8107 - val_loss: 0.4686\n",
      "Epoch 35/50\n",
      "\u001b[1m82/82\u001b[0m \u001b[32m━━━━━━━━━━━━━━━━━━━━\u001b[0m\u001b[37m\u001b[0m \u001b[1m0s\u001b[0m 554us/step - accuracy: 0.8121 - loss: 0.4524 - val_accuracy: 0.8275 - val_loss: 0.4377\n",
      "Epoch 36/50\n",
      "\u001b[1m82/82\u001b[0m \u001b[32m━━━━━━━━━━━━━━━━━━━━\u001b[0m\u001b[37m\u001b[0m \u001b[1m0s\u001b[0m 560us/step - accuracy: 0.8141 - loss: 0.4421 - val_accuracy: 0.8122 - val_loss: 0.4404\n",
      "Epoch 37/50\n",
      "\u001b[1m82/82\u001b[0m \u001b[32m━━━━━━━━━━━━━━━━━━━━\u001b[0m\u001b[37m\u001b[0m \u001b[1m0s\u001b[0m 548us/step - accuracy: 0.8186 - loss: 0.4291 - val_accuracy: 0.8076 - val_loss: 0.4483\n",
      "Epoch 38/50\n",
      "\u001b[1m82/82\u001b[0m \u001b[32m━━━━━━━━━━━━━━━━━━━━\u001b[0m\u001b[37m\u001b[0m \u001b[1m0s\u001b[0m 568us/step - accuracy: 0.8133 - loss: 0.4246 - val_accuracy: 0.8122 - val_loss: 0.4404\n",
      "Epoch 39/50\n",
      "\u001b[1m82/82\u001b[0m \u001b[32m━━━━━━━━━━━━━━━━━━━━\u001b[0m\u001b[37m\u001b[0m \u001b[1m0s\u001b[0m 566us/step - accuracy: 0.8262 - loss: 0.4168 - val_accuracy: 0.8122 - val_loss: 0.4574\n",
      "Epoch 40/50\n",
      "\u001b[1m82/82\u001b[0m \u001b[32m━━━━━━━━━━━━━━━━━━━━\u001b[0m\u001b[37m\u001b[0m \u001b[1m0s\u001b[0m 561us/step - accuracy: 0.8232 - loss: 0.4318 - val_accuracy: 0.8061 - val_loss: 0.4441\n",
      "Epoch 41/50\n",
      "\u001b[1m82/82\u001b[0m \u001b[32m━━━━━━━━━━━━━━━━━━━━\u001b[0m\u001b[37m\u001b[0m \u001b[1m0s\u001b[0m 660us/step - accuracy: 0.8229 - loss: 0.4249 - val_accuracy: 0.8137 - val_loss: 0.4495\n",
      "Epoch 42/50\n",
      "\u001b[1m82/82\u001b[0m \u001b[32m━━━━━━━━━━━━━━━━━━━━\u001b[0m\u001b[37m\u001b[0m \u001b[1m0s\u001b[0m 562us/step - accuracy: 0.8062 - loss: 0.4420 - val_accuracy: 0.8137 - val_loss: 0.4689\n",
      "Epoch 43/50\n",
      "\u001b[1m82/82\u001b[0m \u001b[32m━━━━━━━━━━━━━━━━━━━━\u001b[0m\u001b[37m\u001b[0m \u001b[1m0s\u001b[0m 582us/step - accuracy: 0.8187 - loss: 0.4308 - val_accuracy: 0.8244 - val_loss: 0.4400\n",
      "Epoch 44/50\n",
      "\u001b[1m82/82\u001b[0m \u001b[32m━━━━━━━━━━━━━━━━━━━━\u001b[0m\u001b[37m\u001b[0m \u001b[1m0s\u001b[0m 567us/step - accuracy: 0.8178 - loss: 0.4329 - val_accuracy: 0.7924 - val_loss: 0.4611\n",
      "Epoch 45/50\n",
      "\u001b[1m82/82\u001b[0m \u001b[32m━━━━━━━━━━━━━━━━━━━━\u001b[0m\u001b[37m\u001b[0m \u001b[1m0s\u001b[0m 542us/step - accuracy: 0.8168 - loss: 0.4292 - val_accuracy: 0.8321 - val_loss: 0.4353\n",
      "Epoch 46/50\n",
      "\u001b[1m82/82\u001b[0m \u001b[32m━━━━━━━━━━━━━━━━━━━━\u001b[0m\u001b[37m\u001b[0m \u001b[1m0s\u001b[0m 573us/step - accuracy: 0.8098 - loss: 0.4311 - val_accuracy: 0.8137 - val_loss: 0.4388\n",
      "Epoch 47/50\n",
      "\u001b[1m82/82\u001b[0m \u001b[32m━━━━━━━━━━━━━━━━━━━━\u001b[0m\u001b[37m\u001b[0m \u001b[1m0s\u001b[0m 571us/step - accuracy: 0.8194 - loss: 0.4291 - val_accuracy: 0.8168 - val_loss: 0.4392\n",
      "Epoch 48/50\n",
      "\u001b[1m82/82\u001b[0m \u001b[32m━━━━━━━━━━━━━━━━━━━━\u001b[0m\u001b[37m\u001b[0m \u001b[1m0s\u001b[0m 556us/step - accuracy: 0.8216 - loss: 0.4223 - val_accuracy: 0.8107 - val_loss: 0.4415\n",
      "Epoch 49/50\n",
      "\u001b[1m82/82\u001b[0m \u001b[32m━━━━━━━━━━━━━━━━━━━━\u001b[0m\u001b[37m\u001b[0m \u001b[1m0s\u001b[0m 658us/step - accuracy: 0.8286 - loss: 0.4258 - val_accuracy: 0.8122 - val_loss: 0.4548\n",
      "Epoch 50/50\n",
      "\u001b[1m82/82\u001b[0m \u001b[32m━━━━━━━━━━━━━━━━━━━━\u001b[0m\u001b[37m\u001b[0m \u001b[1m0s\u001b[0m 564us/step - accuracy: 0.8040 - loss: 0.4295 - val_accuracy: 0.8214 - val_loss: 0.4450\n",
      "\u001b[1m21/21\u001b[0m \u001b[32m━━━━━━━━━━━━━━━━━━━━\u001b[0m\u001b[37m\u001b[0m \u001b[1m0s\u001b[0m 2ms/step \n"
     ]
    },
    {
     "data": {
      "text/plain": [
       "array([[452,  24],\n",
       "       [ 93,  86]])"
      ]
     },
     "execution_count": 1062,
     "metadata": {},
     "output_type": "execute_result"
    }
   ],
   "source": [
    "import numpy as np\n",
    "from sklearn.model_selection import train_test_split\n",
    "from sklearn.metrics import confusion_matrix\n",
    "from tensorflow.keras.models import Sequential\n",
    "from tensorflow.keras.layers import LSTM, Dropout, Dense\n",
    "\n",
    "\n",
    "\n",
    "# Split the data\n",
    "x_train, x_test, y_train, y_test = train_test_split(features, Y, test_size=0.2, random_state=42)\n",
    "\n",
    "# Reshape for LSTM [samples, time steps, features]\n",
    "x_train = np.reshape(x_train, (x_train.shape[0], 1, x_train.shape[1]))\n",
    "x_test = np.reshape(x_test, (x_test.shape[0], 1, x_test.shape[1]))\n",
    "\n",
    "# Build the LSTM model\n",
    "model = Sequential()\n",
    "model.add(LSTM(units=50, input_shape=(1, x_train.shape[2])))\n",
    "model.add(Dropout(0.2))\n",
    "model.add(Dense(units=3, activation='softmax'))\n",
    "\n",
    "model.compile(optimizer='adam', loss='categorical_crossentropy', metrics=['accuracy'])\n",
    "\n",
    "# Convert y_train and y_test to categorical (one-hot encoding)\n",
    "y_train = tf.keras.utils.to_categorical(y_train, num_classes=3)\n",
    "y_test_labels = y_test  # Preserve the original y_test labels for later comparison\n",
    "y_test = tf.keras.utils.to_categorical(y_test, num_classes=3)\n",
    "\n",
    "# Train the model\n",
    "history = model.fit(x_train, y_train, epochs=50, batch_size=32, validation_data=(x_test, y_test), verbose=1)\n",
    "\n",
    "# Predict\n",
    "y_pred = model.predict(x_test)\n",
    "y_pred_labels = np.argmax(y_pred, axis=1)\n",
    "\n",
    "\n",
    "# Compute confusion matrix\n",
    "conf_matrix = confusion_matrix(y_test_labels, y_pred_labels)\n",
    "conf_matrix\n"
   ]
  },
  {
   "cell_type": "markdown",
   "id": "72f0a1c2",
   "metadata": {},
   "source": [
    "# Evaluation of RNN"
   ]
  },
  {
   "cell_type": "code",
   "execution_count": 1063,
   "id": "8b447122",
   "metadata": {},
   "outputs": [
    {
     "data": {
      "text/plain": [
       "0.7818181818181819"
      ]
     },
     "execution_count": 1063,
     "metadata": {},
     "output_type": "execute_result"
    }
   ],
   "source": [
    "precision_RNN = precision_score(y_test_labels,y_pred_labels) #  Precision = TP/ (TP+FP) \n",
    "precision_RNN"
   ]
  },
  {
   "cell_type": "code",
   "execution_count": 1064,
   "id": "decb87c8",
   "metadata": {},
   "outputs": [
    {
     "data": {
      "text/plain": [
       "0.48044692737430167"
      ]
     },
     "execution_count": 1064,
     "metadata": {},
     "output_type": "execute_result"
    }
   ],
   "source": [
    "recall_RNN = recall_score(y_test_labels,y_pred_labels) # Recall = TP / (TP + FN)\n",
    "recall_RNN"
   ]
  },
  {
   "cell_type": "code",
   "execution_count": 1065,
   "id": "09840518",
   "metadata": {},
   "outputs": [
    {
     "data": {
      "text/plain": [
       "0.5951557093425606"
      ]
     },
     "execution_count": 1065,
     "metadata": {},
     "output_type": "execute_result"
    }
   ],
   "source": [
    "f1_RNN = f1_score(y_test_labels,y_pred_labels)      # F1_Score = 2(prc * rec)/ (prc + rec)\n",
    "f1_RNN"
   ]
  },
  {
   "cell_type": "code",
   "execution_count": 1066,
   "id": "b18d02cd",
   "metadata": {},
   "outputs": [
    {
     "data": {
      "text/plain": [
       "0.8213740458015267"
      ]
     },
     "execution_count": 1066,
     "metadata": {},
     "output_type": "execute_result"
    }
   ],
   "source": [
    "accuracy_RNN = accuracy_score(y_test_labels,y_pred_labels)\n",
    "accuracy_RNN"
   ]
  },
  {
   "cell_type": "code",
   "execution_count": 1068,
   "id": "d084724f",
   "metadata": {},
   "outputs": [
    {
     "data": {
      "text/html": [
       "<div>\n",
       "<style scoped>\n",
       "    .dataframe tbody tr th:only-of-type {\n",
       "        vertical-align: middle;\n",
       "    }\n",
       "\n",
       "    .dataframe tbody tr th {\n",
       "        vertical-align: top;\n",
       "    }\n",
       "\n",
       "    .dataframe thead th {\n",
       "        text-align: right;\n",
       "    }\n",
       "</style>\n",
       "<table border=\"1\" class=\"dataframe\">\n",
       "  <thead>\n",
       "    <tr style=\"text-align: right;\">\n",
       "      <th></th>\n",
       "      <th>Metric</th>\n",
       "      <th>Value</th>\n",
       "    </tr>\n",
       "  </thead>\n",
       "  <tbody>\n",
       "    <tr>\n",
       "      <th>0</th>\n",
       "      <td>Accuracy Score</td>\n",
       "      <td>0.821374</td>\n",
       "    </tr>\n",
       "    <tr>\n",
       "      <th>1</th>\n",
       "      <td>F1_score</td>\n",
       "      <td>0.595156</td>\n",
       "    </tr>\n",
       "  </tbody>\n",
       "</table>\n",
       "</div>"
      ],
      "text/plain": [
       "           Metric     Value\n",
       "0  Accuracy Score  0.821374\n",
       "1        F1_score  0.595156"
      ]
     },
     "execution_count": 1068,
     "metadata": {},
     "output_type": "execute_result"
    }
   ],
   "source": [
    "metrics_df = pd.DataFrame({\n",
    "    'Metric': ['Accuracy Score',  'F1_score'],\n",
    "    'Value': [accuracy_RNN,f1_RNN ]\n",
    "})\n",
    "metrics_df"
   ]
  },
  {
   "cell_type": "code",
   "execution_count": null,
   "id": "838fb171",
   "metadata": {},
   "outputs": [],
   "source": []
  }
 ],
 "metadata": {
  "kernelspec": {
   "display_name": "Python 3 (ipykernel)",
   "language": "python",
   "name": "python3"
  },
  "language_info": {
   "codemirror_mode": {
    "name": "ipython",
    "version": 3
   },
   "file_extension": ".py",
   "mimetype": "text/x-python",
   "name": "python",
   "nbconvert_exporter": "python",
   "pygments_lexer": "ipython3",
   "version": "3.11.7"
  }
 },
 "nbformat": 4,
 "nbformat_minor": 5
}
